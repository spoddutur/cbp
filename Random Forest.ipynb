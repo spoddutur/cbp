{
 "cells": [
  {
   "cell_type": "code",
   "execution_count": 34,
   "metadata": {},
   "outputs": [],
   "source": [
    "import numpy as np, pandas as pd, matplotlib.pyplot as plt\n",
    "from sklearn import ensemble, metrics, model_selection, preprocessing\n",
    "#from utils import plot_decision"
   ]
  },
  {
   "cell_type": "code",
   "execution_count": 2,
   "metadata": {},
   "outputs": [
    {
     "data": {
      "text/html": [
       "<div>\n",
       "<style scoped>\n",
       "    .dataframe tbody tr th:only-of-type {\n",
       "        vertical-align: middle;\n",
       "    }\n",
       "\n",
       "    .dataframe tbody tr th {\n",
       "        vertical-align: top;\n",
       "    }\n",
       "\n",
       "    .dataframe thead th {\n",
       "        text-align: right;\n",
       "    }\n",
       "</style>\n",
       "<table border=\"1\" class=\"dataframe\">\n",
       "  <thead>\n",
       "    <tr style=\"text-align: right;\">\n",
       "      <th></th>\n",
       "      <th>articleId</th>\n",
       "      <th>articleLength</th>\n",
       "      <th>companyId</th>\n",
       "      <th>countOfDistinctIndustry</th>\n",
       "      <th>countOfOccurence</th>\n",
       "      <th>countOfOccurenceOfAliases</th>\n",
       "      <th>countOfOccurenceOfNamePreserveList</th>\n",
       "      <th>countOfSignificantStrings</th>\n",
       "      <th>countOfUrlMatch</th>\n",
       "      <th>countryMatchByOverlapScore</th>\n",
       "      <th>...</th>\n",
       "      <th>isProminentByParent</th>\n",
       "      <th>isPublic</th>\n",
       "      <th>isSingleCompany</th>\n",
       "      <th>isTickerMatch</th>\n",
       "      <th>isUrlMatched</th>\n",
       "      <th>mentionMatched</th>\n",
       "      <th>personScore</th>\n",
       "      <th>stateMatchByOverlapScore</th>\n",
       "      <th>sumOfIndustry</th>\n",
       "      <th>w2vScore</th>\n",
       "    </tr>\n",
       "  </thead>\n",
       "  <tbody>\n",
       "    <tr>\n",
       "      <th>0</th>\n",
       "      <td>33441345460</td>\n",
       "      <td>4105</td>\n",
       "      <td>18353195</td>\n",
       "      <td>0</td>\n",
       "      <td>0</td>\n",
       "      <td>0</td>\n",
       "      <td>2</td>\n",
       "      <td>2</td>\n",
       "      <td>0</td>\n",
       "      <td>0.0</td>\n",
       "      <td>...</td>\n",
       "      <td>False</td>\n",
       "      <td>False</td>\n",
       "      <td>False</td>\n",
       "      <td>False</td>\n",
       "      <td>False</td>\n",
       "      <td>hunton and williams</td>\n",
       "      <td>-1000.0</td>\n",
       "      <td>-1000.0</td>\n",
       "      <td>0</td>\n",
       "      <td>0.0</td>\n",
       "    </tr>\n",
       "    <tr>\n",
       "      <th>1</th>\n",
       "      <td>33441345460</td>\n",
       "      <td>4105</td>\n",
       "      <td>10261568</td>\n",
       "      <td>2</td>\n",
       "      <td>3</td>\n",
       "      <td>3</td>\n",
       "      <td>3</td>\n",
       "      <td>3</td>\n",
       "      <td>0</td>\n",
       "      <td>0.5</td>\n",
       "      <td>...</td>\n",
       "      <td>True</td>\n",
       "      <td>False</td>\n",
       "      <td>True</td>\n",
       "      <td>False</td>\n",
       "      <td>False</td>\n",
       "      <td>houston office</td>\n",
       "      <td>-1000.0</td>\n",
       "      <td>0.7</td>\n",
       "      <td>21</td>\n",
       "      <td>0.0</td>\n",
       "    </tr>\n",
       "    <tr>\n",
       "      <th>2</th>\n",
       "      <td>33441345460</td>\n",
       "      <td>4105</td>\n",
       "      <td>51217888</td>\n",
       "      <td>0</td>\n",
       "      <td>0</td>\n",
       "      <td>0</td>\n",
       "      <td>6</td>\n",
       "      <td>6</td>\n",
       "      <td>0</td>\n",
       "      <td>0.0</td>\n",
       "      <td>...</td>\n",
       "      <td>False</td>\n",
       "      <td>False</td>\n",
       "      <td>False</td>\n",
       "      <td>False</td>\n",
       "      <td>False</td>\n",
       "      <td>shearman and sterling</td>\n",
       "      <td>0.9</td>\n",
       "      <td>-1000.0</td>\n",
       "      <td>0</td>\n",
       "      <td>0.0</td>\n",
       "    </tr>\n",
       "    <tr>\n",
       "      <th>3</th>\n",
       "      <td>33441345460</td>\n",
       "      <td>4105</td>\n",
       "      <td>18351925</td>\n",
       "      <td>0</td>\n",
       "      <td>0</td>\n",
       "      <td>0</td>\n",
       "      <td>2</td>\n",
       "      <td>2</td>\n",
       "      <td>0</td>\n",
       "      <td>0.5</td>\n",
       "      <td>...</td>\n",
       "      <td>False</td>\n",
       "      <td>False</td>\n",
       "      <td>False</td>\n",
       "      <td>False</td>\n",
       "      <td>False</td>\n",
       "      <td>hunton and williams</td>\n",
       "      <td>-1000.0</td>\n",
       "      <td>0.0</td>\n",
       "      <td>0</td>\n",
       "      <td>0.0</td>\n",
       "    </tr>\n",
       "    <tr>\n",
       "      <th>4</th>\n",
       "      <td>33441345460</td>\n",
       "      <td>4105</td>\n",
       "      <td>18348347</td>\n",
       "      <td>0</td>\n",
       "      <td>3</td>\n",
       "      <td>3</td>\n",
       "      <td>3</td>\n",
       "      <td>3</td>\n",
       "      <td>0</td>\n",
       "      <td>0.0</td>\n",
       "      <td>...</td>\n",
       "      <td>False</td>\n",
       "      <td>False</td>\n",
       "      <td>False</td>\n",
       "      <td>False</td>\n",
       "      <td>False</td>\n",
       "      <td>baker botts</td>\n",
       "      <td>0.9</td>\n",
       "      <td>-1000.0</td>\n",
       "      <td>0</td>\n",
       "      <td>0.0</td>\n",
       "    </tr>\n",
       "  </tbody>\n",
       "</table>\n",
       "<p>5 rows × 31 columns</p>\n",
       "</div>"
      ],
      "text/plain": [
       "     articleId  articleLength  companyId  countOfDistinctIndustry  \\\n",
       "0  33441345460           4105   18353195                        0   \n",
       "1  33441345460           4105   10261568                        2   \n",
       "2  33441345460           4105   51217888                        0   \n",
       "3  33441345460           4105   18351925                        0   \n",
       "4  33441345460           4105   18348347                        0   \n",
       "\n",
       "   countOfOccurence  countOfOccurenceOfAliases  \\\n",
       "0                 0                          0   \n",
       "1                 3                          3   \n",
       "2                 0                          0   \n",
       "3                 0                          0   \n",
       "4                 3                          3   \n",
       "\n",
       "   countOfOccurenceOfNamePreserveList  countOfSignificantStrings  \\\n",
       "0                                   2                          2   \n",
       "1                                   3                          3   \n",
       "2                                   6                          6   \n",
       "3                                   2                          2   \n",
       "4                                   3                          3   \n",
       "\n",
       "   countOfUrlMatch  countryMatchByOverlapScore    ...     isProminentByParent  \\\n",
       "0                0                         0.0    ...                   False   \n",
       "1                0                         0.5    ...                    True   \n",
       "2                0                         0.0    ...                   False   \n",
       "3                0                         0.5    ...                   False   \n",
       "4                0                         0.0    ...                   False   \n",
       "\n",
       "   isPublic  isSingleCompany  isTickerMatch  isUrlMatched  \\\n",
       "0     False            False          False         False   \n",
       "1     False             True          False         False   \n",
       "2     False            False          False         False   \n",
       "3     False            False          False         False   \n",
       "4     False            False          False         False   \n",
       "\n",
       "          mentionMatched  personScore  stateMatchByOverlapScore  \\\n",
       "0    hunton and williams      -1000.0                   -1000.0   \n",
       "1         houston office      -1000.0                       0.7   \n",
       "2  shearman and sterling          0.9                   -1000.0   \n",
       "3    hunton and williams      -1000.0                       0.0   \n",
       "4            baker botts          0.9                   -1000.0   \n",
       "\n",
       "   sumOfIndustry  w2vScore  \n",
       "0              0       0.0  \n",
       "1             21       0.0  \n",
       "2              0       0.0  \n",
       "3              0       0.0  \n",
       "4              0       0.0  \n",
       "\n",
       "[5 rows x 31 columns]"
      ]
     },
     "execution_count": 2,
     "metadata": {},
     "output_type": "execute_result"
    }
   ],
   "source": [
    "df = pd.read_json('/Users/kavetiraviteja/Downloads/mixed_features_gold_tagged_cleared_better/part-00000-520c4808-b1e1-4eef-9bc5-41caad5cc443-c000.json',lines=True)\n",
    "df.head()"
   ]
  },
  {
   "cell_type": "code",
   "execution_count": 23,
   "metadata": {},
   "outputs": [],
   "source": [
    "# select features\n",
    "# df['species_label'], _ = pd.factorize(df['iris'])\n",
    "y = df['isGold']\n",
    "X = df[['w2vScore','personScore','sumOfIndustry',\n",
    "        'countOfOccurenceOfAliases','countOfSignificantStrings',\n",
    "        'countryMatchByOverlapScore','directCityMatchScore','directCountryMatchScore',\n",
    "        'directStateMatchScore','exactMatch','isIndustry','isProminentByItself','isPublic'\n",
    "        ,'isProminentByParent','isSingleCompany','isTickerMatch','isUrlMatched','stateMatchByOverlapScore'\n",
    "       ]]"
   ]
  },
  {
   "cell_type": "code",
   "execution_count": 24,
   "metadata": {},
   "outputs": [],
   "source": [
    "# split data randomly into 70% training and 30% test\n",
    "X_train, X_test, y_train, y_test = model_selection.train_test_split(X, y, test_size=0.3, random_state=0)"
   ]
  },
  {
   "cell_type": "code",
   "execution_count": 25,
   "metadata": {},
   "outputs": [
    {
     "data": {
      "text/plain": [
       "RandomForestClassifier(bootstrap=True, class_weight=None, criterion='entropy',\n",
       "            max_depth=None, max_features='auto', max_leaf_nodes=None,\n",
       "            min_impurity_decrease=0.0, min_impurity_split=None,\n",
       "            min_samples_leaf=1, min_samples_split=2,\n",
       "            min_weight_fraction_leaf=0.0, n_estimators=15, n_jobs=2,\n",
       "            oob_score=False, random_state=1, verbose=0, warm_start=False)"
      ]
     },
     "execution_count": 25,
     "metadata": {},
     "output_type": "execute_result"
    }
   ],
   "source": [
    "# train the random forest model using 10 decision trees and 2 CPU cores\n",
    "rf = ensemble.RandomForestClassifier(criterion='entropy', n_estimators=15, random_state=1, n_jobs=2)\n",
    "rf.fit(X_train, y_train)"
   ]
  },
  {
   "cell_type": "code",
   "execution_count": 26,
   "metadata": {},
   "outputs": [],
   "source": [
    "\n",
    "# use the model to make predictions with the test data\n",
    "y_pred = rf.predict(X_test)"
   ]
  },
  {
   "cell_type": "code",
   "execution_count": 27,
   "metadata": {},
   "outputs": [
    {
     "name": "stdout",
     "output_type": "stream",
     "text": [
      "(5922, 33)\n"
     ]
    }
   ],
   "source": [
    "X1_test=df.copy()\n",
    "X1_test['y_test']=y_test\n",
    "X1_test['y_pred']=pd.DataFrame(y_pred)\n",
    "print (X1_test.shape)"
   ]
  },
  {
   "cell_type": "code",
   "execution_count": 28,
   "metadata": {},
   "outputs": [
    {
     "name": "stdout",
     "output_type": "stream",
     "text": [
      "Misclassified samples: 176\n",
      "Accuracy: 0.90\n"
     ]
    }
   ],
   "source": [
    "# how did our model perform?\n",
    "count_misclassified = (y_test != y_pred).sum()\n",
    "print('Misclassified samples: {}'.format(count_misclassified))\n",
    "accuracy = metrics.accuracy_score(y_test, y_pred)\n",
    "print('Accuracy: {:.2f}'.format(accuracy))\n",
    "\n",
    "X1_test.to_csv('/Users/kavetiraviteja/Downloads/rf_predict.csv', sep=',')"
   ]
  },
  {
   "cell_type": "code",
   "execution_count": 29,
   "metadata": {},
   "outputs": [
    {
     "name": "stdout",
     "output_type": "stream",
     "text": [
      "{'w2vScore': 0.09316206670039108, 'personScore': 0.16314694665547255, 'sumOfIndustry': 0.10362907814462492, 'countOfOccurenceOfAliases': 0.04363510695610942, 'countOfSignificantStrings': 0.048061677582350776, 'countryMatchByOverlapScore': 0.016764778307693493, 'directCityMatchScore': 0.027566161831099334, 'directCountryMatchScore': 0.0212339557277059, 'directStateMatchScore': 0.028987539836185284, 'exactMatch': 0.02244523915320141, 'isIndustry': 0.0021371493716033784, 'isProminentByItself': 0.2082872951847922, 'isPublic': 0.025404689596872306, 'isProminentByParent': 0.054603827603226705, 'isSingleCompany': 0.0877383258546056, 'isTickerMatch': 0.017242621774768544, 'isUrlMatched': 0.009639545246512131, 'stateMatchByOverlapScore': 0.026313994472785027}\n"
     ]
    }
   ],
   "source": [
    "print(dict(zip(X.columns, rf.feature_importances_)))"
   ]
  },
  {
   "cell_type": "code",
   "execution_count": 30,
   "metadata": {},
   "outputs": [],
   "source": [
    "d = dict(zip(X.columns, rf.feature_importances_))"
   ]
  },
  {
   "cell_type": "code",
   "execution_count": 31,
   "metadata": {},
   "outputs": [
    {
     "name": "stdout",
     "output_type": "stream",
     "text": [
      "isProminentByItself 0.2082872951847922\n",
      "personScore 0.16314694665547255\n",
      "sumOfIndustry 0.10362907814462492\n",
      "w2vScore 0.09316206670039108\n",
      "isSingleCompany 0.0877383258546056\n",
      "isProminentByParent 0.054603827603226705\n",
      "countOfSignificantStrings 0.048061677582350776\n",
      "countOfOccurenceOfAliases 0.04363510695610942\n",
      "directStateMatchScore 0.028987539836185284\n",
      "directCityMatchScore 0.027566161831099334\n",
      "stateMatchByOverlapScore 0.026313994472785027\n",
      "isPublic 0.025404689596872306\n",
      "exactMatch 0.02244523915320141\n",
      "directCountryMatchScore 0.0212339557277059\n",
      "isTickerMatch 0.017242621774768544\n",
      "countryMatchByOverlapScore 0.016764778307693493\n",
      "isUrlMatched 0.009639545246512131\n",
      "isIndustry 0.0021371493716033784\n"
     ]
    }
   ],
   "source": [
    "for w in sorted(d, key=d.get, reverse=True):\n",
    "    print(w, d[w])"
   ]
  },
  {
   "cell_type": "code",
   "execution_count": null,
   "metadata": {},
   "outputs": [],
   "source": []
  }
 ],
 "metadata": {
  "kernelspec": {
   "display_name": "cbp",
   "language": "python",
   "name": "cbp"
  },
  "language_info": {
   "codemirror_mode": {
    "name": "ipython",
    "version": 3
   },
   "file_extension": ".py",
   "mimetype": "text/x-python",
   "name": "python",
   "nbconvert_exporter": "python",
   "pygments_lexer": "ipython3",
   "version": "3.6.5"
  }
 },
 "nbformat": 4,
 "nbformat_minor": 2
}
