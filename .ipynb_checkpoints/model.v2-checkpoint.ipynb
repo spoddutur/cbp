{
 "cells": [
  {
   "cell_type": "code",
   "execution_count": 293,
   "metadata": {},
   "outputs": [],
   "source": [
    "import import_ipynb\n",
    "from model import *"
   ]
  },
  {
   "cell_type": "code",
   "execution_count": 294,
   "metadata": {},
   "outputs": [
    {
     "name": "stdout",
     "output_type": "stream",
     "text": [
      "(500, 3)\n"
     ]
    }
   ],
   "source": [
    "def padding(max_len, x):\n",
    "    x_len = x.shape[0]\n",
    "    if(x_len >= max_len):\n",
    "        return x[0:max_len]\n",
    "    else:\n",
    "        if(len(x.shape) > 1):\n",
    "            dim = x.shape[1]\n",
    "            a = x\n",
    "            b = np.ones((max_len-x_len, dim))*-1\n",
    "            return np.concatenate((a, b))\n",
    "        else:\n",
    "            a = x\n",
    "            b = np.zeros(max_len-x_len)\n",
    "            return np.concatenate((a, b))\n",
    "        \n",
    "def reshape_mask(max_len, x):\n",
    "    dim=50\n",
    "    padded_question_mask = padding(max_len, x)\n",
    "    final_question_mask = []\n",
    "    for qm in padded_question_mask:\n",
    "        final_question_mask.append([qm]*dim)\n",
    "    return final_question_mask\n",
    "            \n",
    "c = padding(500, data[4][\"correct_triplets\"])\n",
    "print(c.shape)"
   ]
  },
  {
   "cell_type": "code",
   "execution_count": 295,
   "metadata": {
    "scrolled": false
   },
   "outputs": [],
   "source": [
    "dimOfQuestionVector = 300\n",
    "dimOfTripletVector = 900"
   ]
  },
  {
   "cell_type": "code",
   "execution_count": 309,
   "metadata": {},
   "outputs": [
    {
     "name": "stdout",
     "output_type": "stream",
     "text": [
      "['/Users/surthi/Downloads/train_2.ipwk']\n"
     ]
    }
   ],
   "source": [
    "# create inputs for model\n",
    "import glob\n",
    "import os\n",
    "import json\n",
    "import re\n",
    "\n",
    "def clean(input):\n",
    "    print(input)\n",
    "    return ' '.join(re.sub(r'[^a-zA-Z]', ' ', input).split())\n",
    "    #return re.sub(r'[^a-zA-Z]', ' ', input)\n",
    "\n",
    "def clean_list(input):\n",
    "    clean_output = []\n",
    "    for triplet in input:\n",
    "        clean_triplet = []\n",
    "        for i in triplet:\n",
    "            clean_triplet.append(clean(i))\n",
    "        clean_output.append(np.asarray(clean_triplet))\n",
    "    return clean_output\n",
    "\n",
    "def prepare_data(data, question_max_words=60, triplets_max_numbers=500):\n",
    "    question_vectors = []\n",
    "    question_masks = []\n",
    "    triplet_vectors = []\n",
    "    Y = []\n",
    "    for elem in data:\n",
    "        clean_question = elem[\"question\"]\n",
    "        clean_question_vector = padding(question_max_words, clean_question)\n",
    "        clean_mask = elem[\"question_mask\"]\n",
    "        clean_mask_vector = reshape_mask(question_max_words, clean_mask)\n",
    "        clean_correct_triplets = elem[\"correct_triplets\"]\n",
    "        clean_wrong_triplets = elem[\"wrong_triplets\"]\n",
    "        \n",
    "        # for correct triplets\n",
    "        correct_triplets_vectors = []\n",
    "        for tr in clean_correct_triplets: # There are 500 triplets\n",
    "            # Each tr has s, p and o. Each of the _s, _p and _o's are (num_tokens, 300) size\n",
    "            _s = np.mean(tr[0], axis=0)\n",
    "            _p = np.mean(tr[1], axis=0)\n",
    "            _o = np.mean(tr[2], axis=0)\n",
    "            correct_triplets_vectors.append(np.concatenate((_s, _p, _o))) # adding (900,) vector for each triplet\n",
    "        triplet_vectors.append(padding(triplets_max_numbers, np.asarray(correct_triplets_vectors)))\n",
    "        question_vectors.append(clean_question_vector)\n",
    "        question_masks.append(clean_mask_vector)\n",
    "        Y.append(1)\n",
    "\n",
    "        # for wrong triplets\n",
    "        wrong_triplets_vectors = []\n",
    "        for tr in clean_wrong_triplets:\n",
    "            _s = np.mean(tr[0], axis=0)\n",
    "            _p = np.mean(tr[1], axis=0)\n",
    "            _o = np.mean(tr[2], axis=0)\n",
    "            wrong_triplets_vectors.append(np.concatenate((_s, _p, _o)))\n",
    "        triplet_vectors.append(padding(triplets_max_numbers, np.asarray(wrong_triplets_vectors)))\n",
    "        question_vectors.append(clean_question_vector)\n",
    "        question_masks.append(clean_mask_vector)\n",
    "        Y.append(0)\n",
    "    return question_vectors, question_masks, triplet_vectors, Y\n",
    "\n",
    "def generate_model_inputs():\n",
    "    file_list = glob.glob('/Users/surthi/Downloads/train_*.ipwk')\n",
    "    data = []\n",
    "    for inputFile in file_list:\n",
    "        f = open(inputFile, 'rb')\n",
    "        test = pickle.load(f)\n",
    "        data = np.append(data, test)\n",
    "        f.close()\n",
    "    \n",
    "    return prepare_data(data, question_max_words=60, triplets_max_numbers=500)\n",
    "\n",
    "question_vectors1, question_masks1, triplet_vectors1, Y1 = generate_model_inputs()#prepare_data(data, question_max_words=60, triplets_max_numbers=500)"
   ]
  },
  {
   "cell_type": "code",
   "execution_count": 313,
   "metadata": {},
   "outputs": [
    {
     "data": {
      "text/plain": [
       "300"
      ]
     },
     "execution_count": 313,
     "metadata": {},
     "output_type": "execute_result"
    }
   ],
   "source": [
    "questions_input_shape = (maxWordsPerSentence, dimOfQuestionVector, )\n",
    "questions_mask_input_shape = (maxWordsPerSentence, 50, )\n",
    "triplets_input_shape = (maxTriplets, dimOfTripletVector, )\n",
    "\n",
    "# question_vectors(, 60, 300), question_masks(, 60, 300), triplet_vectors (,500,900), Y\n",
    "len(question_vectors[0][0])"
   ]
  },
  {
   "cell_type": "code",
   "execution_count": 292,
   "metadata": {},
   "outputs": [
    {
     "name": "stdout",
     "output_type": "stream",
     "text": [
      "__________________________________________________________________________________________________\n",
      "Layer (type)                    Output Shape         Param #     Connected to                     \n",
      "==================================================================================================\n",
      "question_indices_input (InputLa (None, 60, 300)      0                                            \n",
      "__________________________________________________________________________________________________\n",
      "Sentence_GRU1 (GRU)             (None, 60, 50)       52650       question_indices_input[0][0]     \n",
      "__________________________________________________________________________________________________\n",
      "triplets_input (InputLayer)     (None, 500, 900)     0                                            \n",
      "__________________________________________________________________________________________________\n",
      "question_masks_input (InputLaye (None, 60, 50)       0                                            \n",
      "__________________________________________________________________________________________________\n",
      "Sentence_GRU2 (GRU)             (None, 60, 50)       15150       Sentence_GRU1[0][0]              \n",
      "__________________________________________________________________________________________________\n",
      "Dense50T (Dense)                (None, 500, 50)      45050       triplets_input[0][0]             \n",
      "__________________________________________________________________________________________________\n",
      "multiply_58 (Multiply)          (None, 60, 50)       0           question_masks_input[0][0]       \n",
      "                                                                 Sentence_GRU2[0][0]              \n",
      "__________________________________________________________________________________________________\n",
      "Triplet_GRU1 (GRU)              (None, 500, 50)      15150       Dense50T[0][0]                   \n",
      "__________________________________________________________________________________________________\n",
      "AMeanLayer (Lambda)             (None, 50)           0           multiply_58[0][0]                \n",
      "__________________________________________________________________________________________________\n",
      "Triplet_GRU2 (GRU)              (None, 50)           15150       Triplet_GRU1[0][0]               \n",
      "__________________________________________________________________________________________________\n",
      "concatenate_34 (Concatenate)    (None, 100)          0           AMeanLayer[0][0]                 \n",
      "                                                                 Triplet_GRU2[0][0]               \n",
      "__________________________________________________________________________________________________\n",
      "Dense64 (Dense)                 (None, 64)           6464        concatenate_34[0][0]             \n",
      "__________________________________________________________________________________________________\n",
      "Dense1 (Dense)                  (None, 1)            65          Dense64[0][0]                    \n",
      "==================================================================================================\n",
      "Total params: 149,679\n",
      "Trainable params: 149,679\n",
      "Non-trainable params: 0\n",
      "__________________________________________________________________________________________________\n",
      "None\n"
     ]
    }
   ],
   "source": [
    "# question inputs\n",
    "question_vectors_input = Input(shape=questions_input_shape, dtype='float32', name=\"question_indices_input\")   \n",
    "question_masks_input = Input(shape=questions_mask_input_shape, dtype='float32', name=\"question_masks_input\")\n",
    "\n",
    "# triplets input\n",
    "triplets_input = Input(shape=triplets_input_shape, dtype='float32', name=\"triplets_input\")  #(None, 500, 900)\n",
    "\n",
    "# layers\n",
    "# gru1 = Bidirectional(GRU( 50, return_sequences=True, name=\"Sentence_GRU1\"))\n",
    "# gru2 = Bidirectional(GRU( 50, return_sequences=False, name=\"Sentence_GRU2\"))\n",
    "# tgru1 = Bidirectional(GRU( 50, return_sequences=True, name=\"Triplet_GRU1\"))\n",
    "# tgru2 = Bidirectional(GRU( 50, return_sequences=False, name=\"Triplet_GRU2\"))\n",
    "\n",
    "gru1 = (GRU( 50, return_sequences=True, name=\"Sentence_GRU1\"))\n",
    "gru2 = (GRU( 50, return_sequences=True, name=\"Sentence_GRU2\"))\n",
    "tgru1 = (GRU( 50, return_sequences=True, name=\"Triplet_GRU1\"))\n",
    "tgru2 = (GRU( 50, return_sequences=False, name=\"Triplet_GRU2\"))\n",
    "mean_layer = Lambda(lambda xin: mean(xin, axis=1), name=\"AMeanLayer\")\n",
    "\n",
    "X_question = gru2(gru1(question_vectors_input))\n",
    "X_question = Multiply()([question_masks_input, X_question]) # (None, 60, 50)\n",
    "X_question = mean_layer(X_question)\n",
    "\n",
    "X_triplets = Dense(50, activation='relu', name=\"Dense50T\")(triplets_input)#tgru2(tgru1(triplets_input))\n",
    "X_triplets = tgru2(tgru1(X_triplets))\n",
    "X_concatenated = Concatenate()([X_question, X_triplets])\n",
    "X_concatenated = Dense(64, activation='relu', name=\"Dense64\")(X_concatenated)\n",
    "Y_pred = Dense(1, activation='sigmoid', name=\"Dense1\")(X_concatenated)\n",
    "\n",
    "m.v3 = Model(inputs=[question_vectors_input, question_masks_input, triplets_input], outputs=Y_pred)\n",
    "print(m.v3.summary())"
   ]
  },
  {
   "cell_type": "code",
   "execution_count": null,
   "metadata": {},
   "outputs": [],
   "source": [
    "model.compile(loss='binary_crossentropy', optimizer='adam', metrics=['accuracy'])\n",
    "model.fit(inputs=[question_vectors, question_masks, triplet_vectors], Y)"
   ]
  },
  {
   "cell_type": "code",
   "execution_count": 70,
   "metadata": {},
   "outputs": [
    {
     "name": "stdout",
     "output_type": "stream",
     "text": [
      "__________________________________________________________________________________________________\n",
      "Layer (type)                    Output Shape         Param #     Connected to                     \n",
      "==================================================================================================\n",
      "sentence_indices (InputLayer)   (None, 60)           0                                            \n",
      "__________________________________________________________________________________________________\n",
      "embedding (Embedding)           multiple             20000050    sentence_indices[0][0]           \n",
      "                                                                 tripletz[0][0]                   \n",
      "__________________________________________________________________________________________________\n",
      "tripletz (InputLayer)           (None, 500, 60)      0                                            \n",
      "__________________________________________________________________________________________________\n",
      "sentence_masks (InputLayer)     (None, 256)          0                                            \n",
      "__________________________________________________________________________________________________\n",
      "s1_bilstm (Bidirectional)       (None, 60, 256)      137472      embedding[0][0]                  \n",
      "__________________________________________________________________________________________________\n",
      "multiply_36 (Multiply)          (None, 60, 256)      0           sentence_masks[0][0]             \n",
      "                                                                 s1_bilstm[0][0]                  \n",
      "__________________________________________________________________________________________________\n",
      "reshape_52 (Reshape)            (None, 500, 3000)    0           embedding[1][0]                  \n",
      "__________________________________________________________________________________________________\n",
      "s2_bilstm (Bidirectional)       (None, 256)          295680      multiply_36[0][0]                \n",
      "__________________________________________________________________________________________________\n",
      "t_bilstm (Bidirectional)        (None, 256)          2403072     reshape_52[0][0]                 \n",
      "__________________________________________________________________________________________________\n",
      "concatenate_20 (Concatenate)    (None, 512)          0           s2_bilstm[0][0]                  \n",
      "                                                                 t_bilstm[0][0]                   \n",
      "__________________________________________________________________________________________________\n",
      "Dense256 (Dense)                (None, 256)          131328      concatenate_20[0][0]             \n",
      "__________________________________________________________________________________________________\n",
      "Dense64 (Dense)                 (None, 64)           16448       Dense256[0][0]                   \n",
      "==================================================================================================\n",
      "Total params: 22,984,050\n",
      "Trainable params: 2,984,000\n",
      "Non-trainable params: 20,000,050\n",
      "__________________________________________________________________________________________________\n",
      "None\n"
     ]
    }
   ],
   "source": [
    "# from keras.layers import Dense, Input, Dropout, LSTM, Activation, SimpleRNN, GRU, Concatenate, Multiply, Reshape, Flatten, Bidirectional\n",
    "\n",
    "# # layers\n",
    "# s1_bilstm = Bidirectional(GRU(128, return_sequences = True), name = \"s1_bilstm\")\n",
    "# s2_bilstm = Bidirectional(GRU(128, return_sequences = False), name = \"s2_bilstm\")\n",
    "# t_bilstm = Bidirectional(GRU(128, return_sequences = False), name = \"t_bilstm\")\n",
    "# embedding_layer = pretrained_embedding_layer(word_to_vec_map, words_to_index)\n",
    "# unstack_layer = Lambda(lambda xin: myUnstack(xin), name=\"AUnstackLayer\")\n",
    "\n",
    "# # sentence inputs\n",
    "# sentence_indices = Input(shape=(maxWordsPerSentence,), dtype='int32', name=\"sentence_indices\")   \n",
    "# sentence_masks = Input(shape=(2*lstm_dim,), dtype='float32', name=\"sentence_masks\")\n",
    "\n",
    "# # sentence embeddings\n",
    "# sentence_embeddings = embedding_layer(sentence_indices)       \n",
    "# # X_sentence = Reshape((maxWordsPerSentence, -1), name=\"s_reshape\")(sentence_embeddings)\n",
    "# X_sentence = s1_bilstm(sentence_embeddings)\n",
    "# X_sentence = Multiply()([sentence_masks, X_sentence]) # (None, 60, 256)\n",
    "# X_sentence = s2_bilstm(X_sentence)\n",
    "\n",
    "# # triplets\n",
    "# triplets_input = Input(shape=(maxTriplets, maxWordsPerSentence,), dtype='int32', name=\"tripletz\") \n",
    "# triplet_embeddings = embedding_layer(triplets_input)\n",
    "\n",
    "# X_triplets = Reshape((maxTriplets, -1))(triplet_embeddings)\n",
    "# X_triplets = t_bilstm(X_triplets)\n",
    "\n",
    "# X_concatenated = Concatenate()([X_sentence, X_triplets])\n",
    "# X_concatenated = Dense(256, activation='relu', name=\"Dense256\")(X_concatenated)\n",
    "# X_concatenated = Dense(64, activation='relu', name=\"Dense64\")(X_concatenated)\n",
    "# Y_pred = Dense(1, activation='sigmoid', name=\"Dense1\")(X_concatenated)\n",
    "\n",
    "# m.v2 = Model(inputs=[sentence_indices, sentence_masks, triplets_input], outputs=X_concatenated)\n",
    "# print(m.v2.summary())"
   ]
  },
  {
   "cell_type": "code",
   "execution_count": null,
   "metadata": {},
   "outputs": [],
   "source": []
  }
 ],
 "metadata": {
  "kernelspec": {
   "display_name": "cs230-env",
   "language": "python",
   "name": "cs230-env"
  }
 },
 "nbformat": 4,
 "nbformat_minor": 2
}
