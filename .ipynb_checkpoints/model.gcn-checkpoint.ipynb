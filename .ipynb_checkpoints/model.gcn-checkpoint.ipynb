{
 "cells": [
  {
   "cell_type": "code",
   "execution_count": 2,
   "metadata": {},
   "outputs": [
    {
     "name": "stderr",
     "output_type": "stream",
     "text": [
      "Using TensorFlow backend.\n"
     ]
    }
   ],
   "source": [
    "import numpy as np\n",
    "import itertools\n",
    "import glob\n",
    "import os\n",
    "import json\n",
    "import re\n",
    "import pickle\n",
    "import math\n",
    "import tensorflow as tf\n",
    "from tensorflow import keras\n",
    "from keras.models import Model\n",
    "from keras.backend import mean, sum, expand_dims, tanh\n",
    "from keras.layers import Dense, Input, Dropout, LSTM, Activation, GRU, Concatenate, Multiply, Reshape, RepeatVector, Dot, Softmax\n",
    "from keras.layers.embeddings import Embedding\n",
    "from keras.preprocessing import sequence\n",
    "from keras.initializers import glorot_uniform\n",
    "from keras.layers import Lambda\n",
    "from keras.optimizers import Adam\n",
    "np.random.seed(1)\n",
    "from keras.models import Sequential\n",
    "import networkx as nx"
   ]
  },
  {
   "cell_type": "code",
   "execution_count": 3,
   "metadata": {},
   "outputs": [],
   "source": [
    "s_DimOfQuestionVector = 50\n",
    "s_DimOfTripletVector  = 50\n",
    "s_DimOfMask           = 50\n",
    "s_QuestionMaxWords    = 60\n",
    "s_TripletsMaxNumbers  = 500"
   ]
  },
  {
   "cell_type": "code",
   "execution_count": 277,
   "metadata": {},
   "outputs": [
    {
     "name": "stdout",
     "output_type": "stream",
     "text": [
      "Loaded  400000  model\n"
     ]
    }
   ],
   "source": [
    "def read_glove_vecs(glove_file):\n",
    "    with open(glove_file, 'r',encoding='UTF-8') as f:\n",
    "        words = set()\n",
    "        word_to_vec_map = {}\n",
    "        for line in f:\n",
    "            line = line.strip().split()\n",
    "            curr_word = line[0]\n",
    "            words.add(curr_word)\n",
    "            word_to_vec_map[curr_word] = np.array(line[1:], dtype=np.float64)\n",
    "        \n",
    "        i = 1\n",
    "        words_to_index = {}\n",
    "        index_to_words = {}\n",
    "        for w in sorted(words):\n",
    "            words_to_index[w] = i\n",
    "            index_to_words[i] = w\n",
    "            i = i + 1\n",
    "    return words_to_index, index_to_words, word_to_vec_map\n",
    "  \n",
    "words_to_index, index_to_words, word_to_vec_map = read_glove_vecs('/Users/surthi/Documents/cs230project/glove.6B.50d.txt')\n",
    "print(\"Loaded \", len(word_to_vec_map), \" model\")"
   ]
  },
  {
   "cell_type": "code",
   "execution_count": 335,
   "metadata": {},
   "outputs": [],
   "source": [
    "# given x (?,dim) always return (max_len, dim) by padding with zeros\n",
    "def padding(max_len, x, dim ):\n",
    "    print(max_len, dim, x.shape) # 60 50 (50,)\n",
    "    x_len = x.shape[0]\n",
    "    # truncate if more than max_len else pad with zeros\n",
    "    if(x_len >= max_len):\n",
    "        return x[0:max_len]\n",
    "    else:   \n",
    "        padding = np.zeros((max_len-x_len, dim))     \n",
    "        if(len(x.shape) > 1):\n",
    "            assert dim == x.shape[1],\"dimensions didnt match in padding\"   \n",
    "            return np.concatenate((x, padding))\n",
    "        else:\n",
    "            return padding\n",
    "        \n",
    "# given 1D array x, we return array of shape (max_len, dim) by replicating each element dim times and apdding with zeros at end\n",
    "def reshape_mask(max_len, x, dim):\n",
    "    # mask is a 1D array so padd with dim == 1\n",
    "    padded_question_mask = np.squeeze(padding(max_len, x, 1))\n",
    "    final_question_mask = []\n",
    "    for qm in padded_question_mask:\n",
    "        # make each mask index into array of dimension dim\n",
    "        final_question_mask.append(np.array([qm]*dim))\n",
    "    return np.asarray(final_question_mask)"
   ]
  },
  {
   "cell_type": "code",
   "execution_count": 357,
   "metadata": {},
   "outputs": [
    {
     "name": "stdout",
     "output_type": "stream",
     "text": [
      "/Users/surthi/Documents/cs230project/data_wiki_handshake/input_w_wiki_1.ipwk\n",
      "60 50 (140, 50)\n",
      "60 50 (31, 50)\n",
      "60 50 (131, 50)\n",
      "60 50 (28, 50)\n",
      "60 50 (46, 50)\n",
      "60 50 (10, 50)\n",
      "60 50 (151, 50)\n",
      "60 50 (28, 50)\n",
      "60 50 (170, 50)\n",
      "60 50 (32, 50)\n",
      "60 50 (134, 50)\n",
      "60 50 (30, 50)\n",
      "60 50 (138, 50)\n",
      "60 50 (29, 50)\n",
      "60 50 (89, 50)\n",
      "60 50 (25, 50)\n",
      "60 50 (158, 50)\n",
      "60 50 (28, 50)\n",
      "60 50 (78, 50)\n",
      "60 50 (18, 50)\n"
     ]
    },
    {
     "name": "stderr",
     "output_type": "stream",
     "text": [
      "/Users/surthi/Documents/mygitrepo/cs230-code-examples/tensorflow/nlp/cs230/lib/python3.6/site-packages/ipykernel_launcher.py:28: RuntimeWarning: invalid value encountered in true_divide\n"
     ]
    }
   ],
   "source": [
    "def clean(input):\n",
    "    return ' '.join(re.sub(r'[^a-zA-Z]', ' ', input).split())\n",
    "\n",
    "def question_to_target_mask(target, question, dim):\n",
    "    target_words = clean(target).lower().split()\n",
    "    mask = []\n",
    "    words_in_question = clean(question).lower().split()\n",
    "    for word in words_in_question:\n",
    "        mask.append([1. if word.lower() in target_words else 0.] * dim)\n",
    "    return np.reshape(np.asarray(mask), (len(mask),dim))\n",
    "\n",
    "def string_to_vector(inputStr, w2vDim):\n",
    "    vectors = []\n",
    "    numWordsInInput = 0\n",
    "    for w in clean(inputStr):\n",
    "        numWordsInInput = numWordsInInput + 1\n",
    "        if w in words_to_index:\n",
    "            vectors.append(word_to_vec_map[w])\n",
    "    return np.asarray(vectors)\n",
    "\n",
    "def string_to_mean_vector(inputStr, w2vDim):\n",
    "    vector = np.zeros(w2vDim)\n",
    "    numWordsInInput = 0\n",
    "    for w in clean(inputStr):\n",
    "        numWordsInInput = numWordsInInput + 1\n",
    "        if w in words_to_index:\n",
    "            vector += word_to_vec_map[w]\n",
    "    vector /= numWordsInInput\n",
    "    return vector\n",
    "\n",
    "def build_graph(name, inputTriplets):\n",
    "    g = nx.DiGraph(name=name)\n",
    "    g.clear()\n",
    "    for spo in inputTriplets:\n",
    "        s = clean(spo[0])\n",
    "        p = clean(spo[1])\n",
    "        o = clean(spo[2])\n",
    "        g.add_node(s, type=\"s\")\n",
    "        g.add_node(o, type=\"o\")\n",
    "        g.add_edge(s, o, relation=p)\n",
    "    return g\n",
    "\n",
    "def triplets_to_vector(name, inputTriplets, triplets_max_numbers, dimOfTripletVector):\n",
    "    g = build_graph(name, inputTriplets)\n",
    "    vectors = np.zeros((triplets_max_numbers, dimOfTripletVector))\n",
    "    i = 0\n",
    "    for node in nx.nodes(g):\n",
    "        nodename = node.replace('_', ' ')\n",
    "        if i < triplets_max_numbers:\n",
    "            vectors[i] = string_to_mean_vector(nodename, dimOfTripletVector)\n",
    "        i = i+1\n",
    "    return np.array(vectors)\n",
    "\n",
    "def prepare_data(data, \n",
    "                 question_max_words, \n",
    "                 triplets_max_numbers, \n",
    "                 dimOfQuestionVector, \n",
    "                 dimOfTripletVector, \n",
    "                 dimOfMask):\n",
    "    question_vectors = []\n",
    "    question_masks = []\n",
    "    triplet_vectors = []\n",
    "    Y = []\n",
    "    for elem in data:\n",
    "        item_name                 = elem[\"name\"]\n",
    "        item_question             = elem[\"question\"]\n",
    "        padded_item_question      = padding(question_max_words, string_to_vector(item_question, dimOfQuestionVector), dimOfQuestionVector)\n",
    "        item_correct_triplets     = elem[\"correct_triplets\"]\n",
    "        item_wrong_triplets       = elem[\"wrong_triplets\"]\n",
    "        \n",
    "        item_question_mask            = question_to_target_mask(item_name, item_question, dimOfMask)\n",
    "        padded_item_question_mask     = padding(question_max_words, item_question_mask, dimOfMask)\n",
    "        item_correct_triplets_vectors = triplets_to_vector(item_name, item_correct_triplets, triplets_max_numbers, dimOfTripletVector)\n",
    "        item_wrong_triplets_vectors   = triplets_to_vector(item_name, item_wrong_triplets, triplets_max_numbers, dimOfTripletVector)\n",
    "        \n",
    "        #pad triplet vectors so we have (triplets_max_numbers, dimOfTripletVector)  encoding for all triplets\n",
    "        #padded_item_triplets_vectors = padding(triplets_max_numbers, np.asarray(item_correct_triplets_vectors), dimOfTripletVector)\n",
    "        \n",
    "        triplet_vectors.append(item_correct_triplets_vectors)\n",
    "        question_vectors.append(padded_item_question)\n",
    "        question_masks.append(padded_item_question_mask)\n",
    "        Y.append(1)\n",
    "        \n",
    "        triplet_vectors.append(item_wrong_triplets_vectors)\n",
    "        question_vectors.append(padded_item_question)\n",
    "        question_masks.append(padded_item_question_mask)\n",
    "        Y.append(0)\n",
    "\n",
    "    question_vectors = np.asarray(question_vectors)\n",
    "    question_masks   = np.asarray(question_masks)\n",
    "    triplet_vectors  = np.asarray(triplet_vectors)\n",
    "    Y                = np.asarray(Y)\n",
    "    return question_vectors, question_masks, triplet_vectors, Y\n",
    "\n",
    "def generate_model_inputs():\n",
    "    file_list = glob.glob('/Users/surthi/Documents/cs230project/data_wiki_handshake/input_w_wiki_1.ipwk')\n",
    "    data = []\n",
    "    num = 0\n",
    "    for inputFile in file_list:\n",
    "        print(inputFile)\n",
    "        with open(inputFile) as f:\n",
    "            json_data = json.load(f);\n",
    "            data.extend( json_data)\n",
    "    \n",
    "    return prepare_data(data, \n",
    "                        question_max_words   = s_QuestionMaxWords, \n",
    "                        triplets_max_numbers = s_TripletsMaxNumbers, \n",
    "                        dimOfQuestionVector  = s_DimOfQuestionVector, \n",
    "                        dimOfTripletVector   = s_DimOfTripletVector, \n",
    "                        dimOfMask            = s_DimOfMask )\n",
    "\n",
    "question_vectors, question_masks, triplet_vectors, Y = generate_model_inputs()#prepare_data(data, question_max_words=60, triplets_max_numbers=500)"
   ]
  },
  {
   "cell_type": "code",
   "execution_count": 378,
   "metadata": {},
   "outputs": [],
   "source": [
    "import numpy as np\n",
    "np.random.seed(0)\n",
    "from keras.models import Model\n",
    "from keras.backend import mean, sum\n",
    "from keras.layers import Dense, Input, Dropout, LSTM, Activation, GRU, Concatenate, Multiply, Reshape\n",
    "from keras.layers.embeddings import Embedding\n",
    "from keras.preprocessing import sequence\n",
    "from keras.initializers import glorot_uniform\n",
    "from keras.layers import Lambda\n",
    "np.random.seed(1)\n",
    "from keras.models import Sequential\n",
    "\n",
    "def myUnstack(xin):\n",
    "    return tf.unstack(xin, axis=1)\n",
    "\n",
    "def ned_gcn_model(input_shape, mask_shape, triplets_shape, word_to_vec_map, word_to_index):\n",
    "    \"\"\"\n",
    "    Function creating the context-vector-generator model's graph.\n",
    "    \n",
    "    Arguments:\n",
    "    input_shape -- shape of the input, usually (max_len,)\n",
    "    word_to_vec_map -- dictionary mapping every word in a vocabulary into its 50-dimensional vector representation\n",
    "    word_to_index -- dictionary mapping from words to their indices in the vocabulary (400,001 words)\n",
    "\n",
    "    Returns:\n",
    "    model -- a model instance in Keras\n",
    "    \"\"\"\n",
    "\n",
    "    # Create all the layers\n",
    "    embedding_layer = pretrained_embedding_layer(word_to_vec_map, word_to_index)\n",
    "    sentence_gru1 = GRU( 50, return_sequences=True, name=\"ASentence_GRU1\")\n",
    "    sentence_gru2 = GRU( 50, return_sequences=True, name=\"ASentence_GRU2\")\n",
    "    triplets_gru1 = GRU( 50, batch_size=500, input_shape=triplets_shape, return_sequences=True, name=\"ATriplets_GRU1\")\n",
    "    triplets_gru2 = GRU( 50, return_sequences=True, name=\"ATriplets_GRU2\")\n",
    "    mean_layer = Lambda(lambda xin: mean(xin, axis=1), name=\"AMeanLayer\")\n",
    "    unstack_layer = Lambda(lambda xin: myUnstack(xin), name=\"AUnstackLayer\")\n",
    "    \n",
    "    # sentence inputs\n",
    "    sentence_embeddings = Input(shape=input_shape, dtype='float32', name=\"sentence_indices\")   \n",
    "#     sentence_masks = Input(shape=mask_shape, dtype='float32', name=\"sentence_masks\")\n",
    "    \n",
    "    # sentence embeddings\n",
    "#     sentence_embeddings = embedding_layer(sentence_indices)       \n",
    "    X_sentence = sentence_gru2(sentence_gru1(sentence_embeddings))\n",
    "#     X_sentence = Multiply()([sentence_masks, X_sentence])\n",
    "#     X_sentence = mean_layer(X_sentence)\n",
    "    \n",
    "#     # triplets input\n",
    "#     triplet_embeddings = Input(shape=triplets_shape, dtype='float32', name=\"Atriplets_indices\")\n",
    "#     unstacked_embeddings = unstack_layer(triplet_embeddings)\n",
    "#     o = Concatenate(axis=1)(unstacked_embeddings) # 0=(,60,50), 1 = (, 30000, 50), 2=(, 60, 25000)\n",
    "#     X_triplets = mean_layer(triplet_embeddings)\n",
    "        \n",
    "#     # now concat triplet and sentence embeddings - how to do?\n",
    "#     X_concatenated = Concatenate()([X_sentence, X_triplets])\n",
    "    \n",
    "#     # Propagate X through a Dense layer with softmax activation to get back a batch of 20-dimensional vectors.\n",
    "#     X_concatenated = Dense(20, activation='relu', name=\"Dense20\")(X_concatenated)\n",
    "\n",
    "#     Y_pred = Dense(1, activation='sigmoid', name=\"Dense1\")(X_concatenated)\n",
    "    \n",
    "    # Add a softmax activation\n",
    "    #Y_pred = Activation('softmax')(X_concatenated)\n",
    "\n",
    "    # Create Model instance which converts sentence_indices into X.\n",
    "#     model = Model(inputs=[sentence_indices, sentence_masks, triplet_embeddings], outputs=X_sentence)\n",
    "    model = Model(inputs=[sentence_indices], outputs=X_sentence)\n",
    "    return model"
   ]
  },
  {
   "cell_type": "code",
   "execution_count": 379,
   "metadata": {},
   "outputs": [
    {
     "ename": "TypeError",
     "evalue": "unhashable type: 'list'",
     "output_type": "error",
     "traceback": [
      "\u001b[0;31m---------------------------------------------------------------------------\u001b[0m",
      "\u001b[0;31mTypeError\u001b[0m                                 Traceback (most recent call last)",
      "\u001b[0;32m<ipython-input-379-54843bd2f676>\u001b[0m in \u001b[0;36m<module>\u001b[0;34m\u001b[0m\n\u001b[1;32m      1\u001b[0m \u001b[0mmaxWordsPerSentence\u001b[0m\u001b[0;34m=\u001b[0m\u001b[0;36m60\u001b[0m\u001b[0;34m\u001b[0m\u001b[0m\n\u001b[1;32m      2\u001b[0m \u001b[0mmaxTriplets\u001b[0m\u001b[0;34m=\u001b[0m\u001b[0;36m500\u001b[0m\u001b[0;34m\u001b[0m\u001b[0m\n\u001b[0;32m----> 3\u001b[0;31m \u001b[0mmodel\u001b[0m \u001b[0;34m=\u001b[0m \u001b[0mned_gcn_model\u001b[0m\u001b[0;34m(\u001b[0m\u001b[0;34m(\u001b[0m\u001b[0mmaxWordsPerSentence\u001b[0m\u001b[0;34m,\u001b[0m\u001b[0;36m50\u001b[0m\u001b[0;34m,\u001b[0m\u001b[0;34m)\u001b[0m\u001b[0;34m,\u001b[0m \u001b[0;34m(\u001b[0m\u001b[0mmaxWordsPerSentence\u001b[0m\u001b[0;34m,\u001b[0m\u001b[0;36m50\u001b[0m\u001b[0;34m,\u001b[0m\u001b[0;34m)\u001b[0m\u001b[0;34m,\u001b[0m \u001b[0;34m(\u001b[0m\u001b[0mmaxTriplets\u001b[0m\u001b[0;34m,\u001b[0m \u001b[0;36m50\u001b[0m\u001b[0;34m,\u001b[0m\u001b[0;34m)\u001b[0m\u001b[0;34m,\u001b[0m \u001b[0mword_to_vec_map\u001b[0m\u001b[0;34m,\u001b[0m \u001b[0mwords_to_index\u001b[0m\u001b[0;34m)\u001b[0m\u001b[0;34m\u001b[0m\u001b[0m\n\u001b[0m\u001b[1;32m      4\u001b[0m \u001b[0mmodel\u001b[0m\u001b[0;34m.\u001b[0m\u001b[0msummary\u001b[0m\u001b[0;34m(\u001b[0m\u001b[0;34m)\u001b[0m\u001b[0;34m\u001b[0m\u001b[0m\n",
      "\u001b[0;32m<ipython-input-378-d42087171027>\u001b[0m in \u001b[0;36mned_gcn_model\u001b[0;34m(input_shape, mask_shape, triplets_shape, word_to_vec_map, word_to_index)\u001b[0m\n\u001b[1;32m     65\u001b[0m     \u001b[0;31m# Create Model instance which converts sentence_indices into X.\u001b[0m\u001b[0;34m\u001b[0m\u001b[0;34m\u001b[0m\u001b[0m\n\u001b[1;32m     66\u001b[0m \u001b[0;31m#     model = Model(inputs=[sentence_indices, sentence_masks, triplet_embeddings], outputs=X_sentence)\u001b[0m\u001b[0;34m\u001b[0m\u001b[0;34m\u001b[0m\u001b[0m\n\u001b[0;32m---> 67\u001b[0;31m     \u001b[0mmodel\u001b[0m \u001b[0;34m=\u001b[0m \u001b[0mModel\u001b[0m\u001b[0;34m(\u001b[0m\u001b[0minputs\u001b[0m\u001b[0;34m=\u001b[0m\u001b[0;34m[\u001b[0m\u001b[0msentence_indices\u001b[0m\u001b[0;34m]\u001b[0m\u001b[0;34m,\u001b[0m \u001b[0moutputs\u001b[0m\u001b[0;34m=\u001b[0m\u001b[0mX_sentence\u001b[0m\u001b[0;34m)\u001b[0m\u001b[0;34m\u001b[0m\u001b[0m\n\u001b[0m\u001b[1;32m     68\u001b[0m     \u001b[0;32mreturn\u001b[0m \u001b[0mmodel\u001b[0m\u001b[0;34m\u001b[0m\u001b[0m\n",
      "\u001b[0;32m~/Documents/mygitrepo/cs230-code-examples/tensorflow/nlp/cs230/lib/python3.6/site-packages/keras/legacy/interfaces.py\u001b[0m in \u001b[0;36mwrapper\u001b[0;34m(*args, **kwargs)\u001b[0m\n\u001b[1;32m     89\u001b[0m                 warnings.warn('Update your `' + object_name + '` call to the ' +\n\u001b[1;32m     90\u001b[0m                               'Keras 2 API: ' + signature, stacklevel=2)\n\u001b[0;32m---> 91\u001b[0;31m             \u001b[0;32mreturn\u001b[0m \u001b[0mfunc\u001b[0m\u001b[0;34m(\u001b[0m\u001b[0;34m*\u001b[0m\u001b[0margs\u001b[0m\u001b[0;34m,\u001b[0m \u001b[0;34m**\u001b[0m\u001b[0mkwargs\u001b[0m\u001b[0;34m)\u001b[0m\u001b[0;34m\u001b[0m\u001b[0m\n\u001b[0m\u001b[1;32m     92\u001b[0m         \u001b[0mwrapper\u001b[0m\u001b[0;34m.\u001b[0m\u001b[0m_original_function\u001b[0m \u001b[0;34m=\u001b[0m \u001b[0mfunc\u001b[0m\u001b[0;34m\u001b[0m\u001b[0m\n\u001b[1;32m     93\u001b[0m         \u001b[0;32mreturn\u001b[0m \u001b[0mwrapper\u001b[0m\u001b[0;34m\u001b[0m\u001b[0m\n",
      "\u001b[0;32m~/Documents/mygitrepo/cs230-code-examples/tensorflow/nlp/cs230/lib/python3.6/site-packages/keras/engine/network.py\u001b[0m in \u001b[0;36m__init__\u001b[0;34m(self, *args, **kwargs)\u001b[0m\n\u001b[1;32m     91\u001b[0m                 'inputs' in kwargs and 'outputs' in kwargs):\n\u001b[1;32m     92\u001b[0m             \u001b[0;31m# Graph network\u001b[0m\u001b[0;34m\u001b[0m\u001b[0;34m\u001b[0m\u001b[0m\n\u001b[0;32m---> 93\u001b[0;31m             \u001b[0mself\u001b[0m\u001b[0;34m.\u001b[0m\u001b[0m_init_graph_network\u001b[0m\u001b[0;34m(\u001b[0m\u001b[0;34m*\u001b[0m\u001b[0margs\u001b[0m\u001b[0;34m,\u001b[0m \u001b[0;34m**\u001b[0m\u001b[0mkwargs\u001b[0m\u001b[0;34m)\u001b[0m\u001b[0;34m\u001b[0m\u001b[0m\n\u001b[0m\u001b[1;32m     94\u001b[0m         \u001b[0;32melse\u001b[0m\u001b[0;34m:\u001b[0m\u001b[0;34m\u001b[0m\u001b[0m\n\u001b[1;32m     95\u001b[0m             \u001b[0;31m# Subclassed network\u001b[0m\u001b[0;34m\u001b[0m\u001b[0;34m\u001b[0m\u001b[0m\n",
      "\u001b[0;32m~/Documents/mygitrepo/cs230-code-examples/tensorflow/nlp/cs230/lib/python3.6/site-packages/keras/engine/network.py\u001b[0m in \u001b[0;36m_init_graph_network\u001b[0;34m(self, inputs, outputs, name)\u001b[0m\n\u001b[1;32m    145\u001b[0m         \u001b[0;31m# User-provided argument validation.\u001b[0m\u001b[0;34m\u001b[0m\u001b[0;34m\u001b[0m\u001b[0m\n\u001b[1;32m    146\u001b[0m         \u001b[0;31m# Check for redundancy in inputs.\u001b[0m\u001b[0;34m\u001b[0m\u001b[0;34m\u001b[0m\u001b[0m\n\u001b[0;32m--> 147\u001b[0;31m         \u001b[0;32mif\u001b[0m \u001b[0mlen\u001b[0m\u001b[0;34m(\u001b[0m\u001b[0mset\u001b[0m\u001b[0;34m(\u001b[0m\u001b[0mself\u001b[0m\u001b[0;34m.\u001b[0m\u001b[0minputs\u001b[0m\u001b[0;34m)\u001b[0m\u001b[0;34m)\u001b[0m \u001b[0;34m!=\u001b[0m \u001b[0mlen\u001b[0m\u001b[0;34m(\u001b[0m\u001b[0mself\u001b[0m\u001b[0;34m.\u001b[0m\u001b[0minputs\u001b[0m\u001b[0;34m)\u001b[0m\u001b[0;34m:\u001b[0m\u001b[0;34m\u001b[0m\u001b[0m\n\u001b[0m\u001b[1;32m    148\u001b[0m             raise ValueError('The list of inputs passed to the model '\n\u001b[1;32m    149\u001b[0m                              \u001b[0;34m'is redundant. '\u001b[0m\u001b[0;34m\u001b[0m\u001b[0m\n",
      "\u001b[0;31mTypeError\u001b[0m: unhashable type: 'list'"
     ]
    }
   ],
   "source": [
    "maxWordsPerSentence=60\n",
    "maxTriplets=500\n",
    "model = ned_gcn_model((maxWordsPerSentence,50,), (maxWordsPerSentence,50,), (maxTriplets, 50,), word_to_vec_map, words_to_index)\n",
    "model.summary()"
   ]
  },
  {
   "cell_type": "code",
   "execution_count": 360,
   "metadata": {},
   "outputs": [],
   "source": [
    "model.compile(loss='binary_crossentropy', optimizer='adam', metrics=['accuracy'])"
   ]
  },
  {
   "cell_type": "code",
   "execution_count": 371,
   "metadata": {},
   "outputs": [
    {
     "name": "stdout",
     "output_type": "stream",
     "text": [
      "(20, 60, 50) (20, 60, 50) (20, 500, 50)\n",
      "<class 'numpy.ndarray'> <class 'numpy.ndarray'> <class 'numpy.ndarray'>\n"
     ]
    }
   ],
   "source": [
    "print(question_vectors.shape, question_masks.shape, triplet_vectors.shape)\n",
    "print(type(question_vectors[0]), type(question_masks[0]), type(triplet_vectors[0]))"
   ]
  },
  {
   "cell_type": "code",
   "execution_count": 361,
   "metadata": {},
   "outputs": [
    {
     "ename": "ValueError",
     "evalue": "Error when checking input: expected sentence_indices to have 2 dimensions, but got array with shape (20, 60, 50)",
     "output_type": "error",
     "traceback": [
      "\u001b[0;31m---------------------------------------------------------------------------\u001b[0m",
      "\u001b[0;31mValueError\u001b[0m                                Traceback (most recent call last)",
      "\u001b[0;32m<ipython-input-361-a5bf0b677b37>\u001b[0m in \u001b[0;36m<module>\u001b[0;34m\u001b[0m\n\u001b[1;32m      4\u001b[0m \u001b[0;31m# print(np.asarray(sentence_masks[2]).shape)\u001b[0m\u001b[0;34m\u001b[0m\u001b[0;34m\u001b[0m\u001b[0m\n\u001b[1;32m      5\u001b[0m \u001b[0;31m# print(type(gcn_input))\u001b[0m\u001b[0;34m\u001b[0m\u001b[0;34m\u001b[0m\u001b[0m\n\u001b[0;32m----> 6\u001b[0;31m \u001b[0mmodel\u001b[0m\u001b[0;34m.\u001b[0m\u001b[0mfit\u001b[0m\u001b[0;34m(\u001b[0m\u001b[0;34m[\u001b[0m\u001b[0mquestion_vectors\u001b[0m\u001b[0;34m,\u001b[0m \u001b[0mquestion_masks\u001b[0m\u001b[0;34m,\u001b[0m \u001b[0mtriplet_vectors\u001b[0m\u001b[0;34m]\u001b[0m\u001b[0;34m,\u001b[0m \u001b[0mY\u001b[0m\u001b[0;34m,\u001b[0m \u001b[0mepochs\u001b[0m\u001b[0;34m=\u001b[0m\u001b[0;36m100\u001b[0m\u001b[0;34m)\u001b[0m\u001b[0;34m\u001b[0m\u001b[0m\n\u001b[0m\u001b[1;32m      7\u001b[0m \u001b[0;31m# model.fit([si, np.asarray(sentence_masks), np.asarray(gcn_input)], Y, epochs=100)\u001b[0m\u001b[0;34m\u001b[0m\u001b[0;34m\u001b[0m\u001b[0m\n",
      "\u001b[0;32m~/Documents/mygitrepo/cs230-code-examples/tensorflow/nlp/cs230/lib/python3.6/site-packages/keras/engine/training.py\u001b[0m in \u001b[0;36mfit\u001b[0;34m(self, x, y, batch_size, epochs, verbose, callbacks, validation_split, validation_data, shuffle, class_weight, sample_weight, initial_epoch, steps_per_epoch, validation_steps, **kwargs)\u001b[0m\n\u001b[1;32m    950\u001b[0m             \u001b[0msample_weight\u001b[0m\u001b[0;34m=\u001b[0m\u001b[0msample_weight\u001b[0m\u001b[0;34m,\u001b[0m\u001b[0;34m\u001b[0m\u001b[0m\n\u001b[1;32m    951\u001b[0m             \u001b[0mclass_weight\u001b[0m\u001b[0;34m=\u001b[0m\u001b[0mclass_weight\u001b[0m\u001b[0;34m,\u001b[0m\u001b[0;34m\u001b[0m\u001b[0m\n\u001b[0;32m--> 952\u001b[0;31m             batch_size=batch_size)\n\u001b[0m\u001b[1;32m    953\u001b[0m         \u001b[0;31m# Prepare validation data.\u001b[0m\u001b[0;34m\u001b[0m\u001b[0;34m\u001b[0m\u001b[0m\n\u001b[1;32m    954\u001b[0m         \u001b[0mdo_validation\u001b[0m \u001b[0;34m=\u001b[0m \u001b[0;32mFalse\u001b[0m\u001b[0;34m\u001b[0m\u001b[0m\n",
      "\u001b[0;32m~/Documents/mygitrepo/cs230-code-examples/tensorflow/nlp/cs230/lib/python3.6/site-packages/keras/engine/training.py\u001b[0m in \u001b[0;36m_standardize_user_data\u001b[0;34m(self, x, y, sample_weight, class_weight, check_array_lengths, batch_size)\u001b[0m\n\u001b[1;32m    749\u001b[0m             \u001b[0mfeed_input_shapes\u001b[0m\u001b[0;34m,\u001b[0m\u001b[0;34m\u001b[0m\u001b[0m\n\u001b[1;32m    750\u001b[0m             \u001b[0mcheck_batch_axis\u001b[0m\u001b[0;34m=\u001b[0m\u001b[0;32mFalse\u001b[0m\u001b[0;34m,\u001b[0m  \u001b[0;31m# Don't enforce the batch size.\u001b[0m\u001b[0;34m\u001b[0m\u001b[0m\n\u001b[0;32m--> 751\u001b[0;31m             exception_prefix='input')\n\u001b[0m\u001b[1;32m    752\u001b[0m \u001b[0;34m\u001b[0m\u001b[0m\n\u001b[1;32m    753\u001b[0m         \u001b[0;32mif\u001b[0m \u001b[0my\u001b[0m \u001b[0;32mis\u001b[0m \u001b[0;32mnot\u001b[0m \u001b[0;32mNone\u001b[0m\u001b[0;34m:\u001b[0m\u001b[0;34m\u001b[0m\u001b[0m\n",
      "\u001b[0;32m~/Documents/mygitrepo/cs230-code-examples/tensorflow/nlp/cs230/lib/python3.6/site-packages/keras/engine/training_utils.py\u001b[0m in \u001b[0;36mstandardize_input_data\u001b[0;34m(data, names, shapes, check_batch_axis, exception_prefix)\u001b[0m\n\u001b[1;32m    126\u001b[0m                         \u001b[0;34m': expected '\u001b[0m \u001b[0;34m+\u001b[0m \u001b[0mnames\u001b[0m\u001b[0;34m[\u001b[0m\u001b[0mi\u001b[0m\u001b[0;34m]\u001b[0m \u001b[0;34m+\u001b[0m \u001b[0;34m' to have '\u001b[0m \u001b[0;34m+\u001b[0m\u001b[0;34m\u001b[0m\u001b[0m\n\u001b[1;32m    127\u001b[0m                         \u001b[0mstr\u001b[0m\u001b[0;34m(\u001b[0m\u001b[0mlen\u001b[0m\u001b[0;34m(\u001b[0m\u001b[0mshape\u001b[0m\u001b[0;34m)\u001b[0m\u001b[0;34m)\u001b[0m \u001b[0;34m+\u001b[0m \u001b[0;34m' dimensions, but got array '\u001b[0m\u001b[0;34m\u001b[0m\u001b[0m\n\u001b[0;32m--> 128\u001b[0;31m                         'with shape ' + str(data_shape))\n\u001b[0m\u001b[1;32m    129\u001b[0m                 \u001b[0;32mif\u001b[0m \u001b[0;32mnot\u001b[0m \u001b[0mcheck_batch_axis\u001b[0m\u001b[0;34m:\u001b[0m\u001b[0;34m\u001b[0m\u001b[0m\n\u001b[1;32m    130\u001b[0m                     \u001b[0mdata_shape\u001b[0m \u001b[0;34m=\u001b[0m \u001b[0mdata_shape\u001b[0m\u001b[0;34m[\u001b[0m\u001b[0;36m1\u001b[0m\u001b[0;34m:\u001b[0m\u001b[0;34m]\u001b[0m\u001b[0;34m\u001b[0m\u001b[0m\n",
      "\u001b[0;31mValueError\u001b[0m: Error when checking input: expected sentence_indices to have 2 dimensions, but got array with shape (20, 60, 50)"
     ]
    }
   ],
   "source": [
    "#gcn_input, Y, sentence_indices, sentence_masks\n",
    "# print(np.squeeze(np.asarray(sentence_indices)).shape)\n",
    "# si = np.squeeze(np.asarray(sentence_indices))\n",
    "# print(np.asarray(sentence_masks[2]).shape)\n",
    "# print(type(gcn_input))\n",
    "model.fit([question_vectors, question_masks, triplet_vectors], Y, epochs=100)\n",
    "# model.fit([si, np.asarray(sentence_masks), np.asarray(gcn_input)], Y, epochs=100)"
   ]
  },
  {
   "cell_type": "code",
   "execution_count": 22,
   "metadata": {},
   "outputs": [
    {
     "name": "stdout",
     "output_type": "stream",
     "text": [
      "(2, 1)\n",
      "None\n",
      "1\n"
     ]
    }
   ],
   "source": [
    "g1 = nx.DiGraph()\n",
    "g1.clear()\n",
    "\n",
    "g1.add_node('s1')\n",
    "g1.add_node('o1')\n",
    "g1.add_edge('s1', 'o1', relation='p1')\n",
    "\n",
    "g1.add_node('o3')\n",
    "g1.add_edge('s1', 'o3', relation='p3')\n",
    "\n",
    "g1.add_node('o1')\n",
    "g1.add_node('o2')\n",
    "g1.add_edge('o1', 'o2', relation='p2')"
   ]
  },
  {
   "cell_type": "code",
   "execution_count": 163,
   "metadata": {},
   "outputs": [
    {
     "name": "stdout",
     "output_type": "stream",
     "text": [
      "[[0. 1. 1. 0.]\n",
      " [0. 0. 0. 1.]\n",
      " [0. 0. 0. 0.]\n",
      " [0. 0. 0. 0.]]\n"
     ]
    },
    {
     "data": {
      "text/plain": [
       "OutEdgeView([('s1', 'o1'), ('s1', 'o3'), ('o1', 'o2')])"
      ]
     },
     "execution_count": 163,
     "metadata": {},
     "output_type": "execute_result"
    },
    {
     "data": {
      "image/png": "[encoded data removed]",
      "text/plain": [
       "<Figure size 432x288 with 1 Axes>"
      ]
     },
     "metadata": {
      "needs_background": "light"
     },
     "output_type": "display_data"
    }
   ],
   "source": [
    "# nx.draw(g1, with_labels=True, font_weight='bold')\n",
    "layout = nx.shell_layout(g1)\n",
    "nx.draw_networkx(g1, pos=layout)\n",
    "nx.draw_networkx_edge_labels(g1, pos=layout)"
   ]
  },
  {
   "cell_type": "code",
   "execution_count": null,
   "metadata": {},
   "outputs": [],
   "source": []
  }
 ],
 "metadata": {
  "kernelspec": {
   "display_name": "cs230-env",
   "language": "python",
   "name": "cs230-env"
  }
 },
 "nbformat": 4,
 "nbformat_minor": 2
}
